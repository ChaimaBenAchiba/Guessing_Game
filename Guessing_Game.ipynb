{
  "nbformat": 4,
  "nbformat_minor": 0,
  "metadata": {
    "colab": {
      "provenance": [],
      "authorship_tag": "ABX9TyNVwaO7b4T0p+X2gvpUMiJl",
      "include_colab_link": true
    },
    "kernelspec": {
      "name": "python3",
      "display_name": "Python 3"
    },
    "language_info": {
      "name": "python"
    }
  },
  "cells": [
    {
      "cell_type": "markdown",
      "metadata": {
        "id": "view-in-github",
        "colab_type": "text"
      },
      "source": [
        "<a href=\"https://colab.research.google.com/github/ChaimaBenAchiba/Guessing_Game/blob/main/Guessing_Game.ipynb\" target=\"_parent\"><img src=\"https://colab.research.google.com/assets/colab-badge.svg\" alt=\"Open In Colab\"/></a>"
      ]
    },
    {
      "cell_type": "code",
      "execution_count": null,
      "metadata": {
        "colab": {
          "base_uri": "https://localhost:8080/"
        },
        "id": "psmT2oLoDG6K",
        "outputId": "5587d451-7e5a-4751-c985-872bfa3c874f"
      },
      "outputs": [
        {
          "output_type": "stream",
          "name": "stdout",
          "text": [
            "Welcome to the Guessing Game!\n",
            "I have chosen a number between 1 and 100. Can you guess it?\n"
          ]
        }
      ],
      "source": [
        "import random\n",
        "\n",
        "def guessing_game():\n",
        "    # Generate a random number between 1 and 100\n",
        "    secret_number = random.randint(1, 100)\n",
        "    attempts = 0\n",
        "\n",
        "    print(\"Welcome to the Guessing Game!\")\n",
        "    print(\"I have chosen a number between 1 and 100. Can you guess it?\")\n",
        "\n",
        "    while True:\n",
        "        # Prompt the user to guess the number\n",
        "        guess = int(input(\"Enter your guess: \"))\n",
        "        attempts += 1\n",
        "\n",
        "        # Check if the guess is correct\n",
        "        if guess == secret_number:\n",
        "            print(f\"Congratulations! You've guessed the correct number {secret_number} in {attempts} attempts.\")\n",
        "            break\n",
        "        elif guess < secret_number:\n",
        "            print(\"Too low! Try guessing a higher number.\")\n",
        "        else:\n",
        "            print(\"Too high! Try guessing a lower number.\")\n",
        "\n",
        "if __name__ == \"__main__\":\n",
        "    guessing_game()"
      ]
    }
  ]
}